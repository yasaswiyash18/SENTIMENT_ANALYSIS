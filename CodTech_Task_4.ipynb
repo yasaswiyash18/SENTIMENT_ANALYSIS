{
  "nbformat": 4,
  "nbformat_minor": 0,
  "metadata": {
    "colab": {
      "provenance": [],
      "authorship_tag": "ABX9TyN2pJKCAn3kfgoq39FGjbP0",
      "include_colab_link": true
    },
    "kernelspec": {
      "name": "python3",
      "display_name": "Python 3"
    },
    "language_info": {
      "name": "python"
    }
  },
  "cells": [
    {
      "cell_type": "markdown",
      "metadata": {
        "id": "view-in-github",
        "colab_type": "text"
      },
      "source": [
        "<a href=\"https://colab.research.google.com/github/yasaswiyash18/SENTIMENT_ANALYSIS/blob/main/CodTech_Task_4.ipynb\" target=\"_parent\"><img src=\"https://colab.research.google.com/assets/colab-badge.svg\" alt=\"Open In Colab\"/></a>"
      ]
    },
    {
      "cell_type": "code",
      "execution_count": 1,
      "metadata": {
        "id": "-hl15Jq9rVDI"
      },
      "outputs": [],
      "source": [
        "import pandas as pd\n",
        "import numpy as np\n",
        "from sklearn.model_selection import train_test_split\n",
        "from sklearn.feature_extraction.text import TfidfVectorizer\n",
        "from sklearn.linear_model import LogisticRegression\n",
        "from sklearn.pipeline import Pipeline\n",
        "from sklearn.metrics import classification_report, confusion_matrix\n",
        "import nltk\n",
        "from nltk.tokenize import RegexpTokenizer\n",
        "from nltk.corpus import stopwords\n",
        "from nltk.stem import WordNetLemmatizer\n",
        "import seaborn as sns\n",
        "import matplotlib.pyplot as plt\n",
        "import re\n",
        "import logging"
      ]
    },
    {
      "cell_type": "code",
      "source": [
        "nltk.download('punkt')\n",
        "nltk.download('stopwords')\n",
        "nltk.download('wordnet')"
      ],
      "metadata": {
        "colab": {
          "base_uri": "https://localhost:8080/"
        },
        "id": "4A03mOEarXnc",
        "outputId": "47923ef7-15ab-4c70-e8af-7d5109ea9a9f"
      },
      "execution_count": 2,
      "outputs": [
        {
          "output_type": "stream",
          "name": "stderr",
          "text": [
            "[nltk_data] Downloading package punkt to /root/nltk_data...\n",
            "[nltk_data]   Package punkt is already up-to-date!\n",
            "[nltk_data] Downloading package stopwords to /root/nltk_data...\n",
            "[nltk_data]   Package stopwords is already up-to-date!\n",
            "[nltk_data] Downloading package wordnet to /root/nltk_data...\n",
            "[nltk_data]   Package wordnet is already up-to-date!\n"
          ]
        },
        {
          "output_type": "execute_result",
          "data": {
            "text/plain": [
              "True"
            ]
          },
          "metadata": {},
          "execution_count": 2
        }
      ]
    },
    {
      "cell_type": "code",
      "source": [
        "class SentimentAnalyzer:\n",
        "    def __init__(self):\n",
        "        logging.basicConfig(level=logging.INFO)\n",
        "        self.logger = logging.getLogger(__name__)\n",
        "        self.tokenizer = RegexpTokenizer(r'\\w+')\n",
        "        self.lemmatizer = WordNetLemmatizer()\n",
        "        self.stop_words = set(stopwords.words('english'))\n",
        "        self.model = None\n",
        "\n",
        "    def create_sample_data(self):\n",
        "        reviews = [\n",
        "            \"This movie was fantastic! Great acting and storyline\",\n",
        "            \"Terrible waste of time. Poor acting and boring plot\",\n",
        "            \"Really enjoyed this film, would watch again\",\n",
        "            \"Not worth the money, very disappointed\",\n",
        "            \"Average movie, nothing special but okay\",\n",
        "            \"One of the best movies I've ever seen\",\n",
        "            \"Complete disaster, avoid at all costs\",\n",
        "            \"Pretty good entertainment value\",\n",
        "            \"Absolutely loved every minute of it\",\n",
        "            \"Could have been better, somewhat disappointing\"\n",
        "        ] * 5  # Increase dataset size\n",
        "        ratings = [5, 1, 4, 1, 3, 5, 1, 4, 5, 2] * 5  # Ensure class balance\n",
        "        return pd.DataFrame({'text': reviews, 'rating': ratings})\n",
        "\n",
        "    def preprocess_text(self, text):\n",
        "        text = str(text).lower()\n",
        "        text = re.sub(r'[^a-zA-Z\\s]', '', text)\n",
        "        tokens = self.tokenizer.tokenize(text)\n",
        "        tokens = [self.lemmatizer.lemmatize(token) for token in tokens if token not in self.stop_words and len(token) > 2]\n",
        "        return ' '.join(tokens)\n",
        "\n",
        "    def prepare_data(self, df):\n",
        "        df['processed_text'] = df['text'].apply(self.preprocess_text)\n",
        "        df['sentiment'] = df['rating'].apply(lambda x: 'negative' if x <= 2 else 'positive' if x >= 4 else 'neutral')\n",
        "        return df\n",
        "\n",
        "    def train_model(self, X_train, y_train):\n",
        "        self.model = Pipeline([\n",
        "            ('tfidf', TfidfVectorizer(max_features=5000, min_df=2, max_df=0.95, ngram_range=(1, 2))),\n",
        "            ('classifier', LogisticRegression(max_iter=1000, class_weight='balanced', random_state=42))\n",
        "        ])\n",
        "        self.model.fit(X_train, y_train)\n",
        "\n",
        "    def evaluate_model(self, X_test, y_test):\n",
        "        y_pred = self.model.predict(X_test)\n",
        "        print(\"\\nClassification Report:\")\n",
        "        print(classification_report(y_test, y_pred, zero_division=0))\n",
        "\n",
        "    def analyze_new_text(self, texts):\n",
        "        processed_texts = [self.preprocess_text(text) for text in texts]\n",
        "        predictions = self.model.predict(processed_texts)\n",
        "        return pd.DataFrame({'text': texts, 'sentiment': predictions})"
      ],
      "metadata": {
        "id": "C0nVZ24ErcVS"
      },
      "execution_count": 3,
      "outputs": []
    },
    {
      "cell_type": "code",
      "source": [
        "def main():\n",
        "    analyzer = SentimentAnalyzer()\n",
        "    df = analyzer.create_sample_data()\n",
        "    df = analyzer.prepare_data(df)\n",
        "\n",
        "    class_counts = df['sentiment'].value_counts()\n",
        "    valid_classes = class_counts[class_counts >= 2].index\n",
        "    df = df[df['sentiment'].isin(valid_classes)]\n",
        "\n",
        "    stratify_option = df['sentiment'] if len(valid_classes) > 1 else None\n",
        "    X_train, X_test, y_train, y_test = train_test_split(\n",
        "        df['processed_text'], df['sentiment'], test_size=0.2, random_state=42, stratify=stratify_option\n",
        "    )\n",
        "\n",
        "    analyzer.train_model(X_train, y_train)\n",
        "    analyzer.evaluate_model(X_test, y_test)\n",
        "\n",
        "    new_reviews = [\n",
        "        \"This product is amazing! I absolutely love it!\",\n",
        "        \"Terrible experience, would not recommend to anyone.\",\n",
        "        \"It's okay, nothing special but gets the job done.\"\n",
        "    ]\n",
        "    results = analyzer.analyze_new_text(new_reviews)\n",
        "    print(\"\\nSentiment Analysis Results:\")\n",
        "    print(results.to_string(index=False))\n"
      ],
      "metadata": {
        "id": "w744S6AFrgtX"
      },
      "execution_count": 4,
      "outputs": []
    },
    {
      "cell_type": "code",
      "source": [
        "if __name__ == \"__main__\":\n",
        "    main()"
      ],
      "metadata": {
        "colab": {
          "base_uri": "https://localhost:8080/"
        },
        "id": "9u9CZWIhsUrv",
        "outputId": "59870980-7517-4c97-d716-44e6d78e73c0"
      },
      "execution_count": 5,
      "outputs": [
        {
          "output_type": "stream",
          "name": "stdout",
          "text": [
            "\n",
            "Classification Report:\n",
            "              precision    recall  f1-score   support\n",
            "\n",
            "    negative       1.00      1.00      1.00         4\n",
            "     neutral       1.00      1.00      1.00         1\n",
            "    positive       1.00      1.00      1.00         5\n",
            "\n",
            "    accuracy                           1.00        10\n",
            "   macro avg       1.00      1.00      1.00        10\n",
            "weighted avg       1.00      1.00      1.00        10\n",
            "\n",
            "\n",
            "Sentiment Analysis Results:\n",
            "                                               text sentiment\n",
            "     This product is amazing! I absolutely love it!  positive\n",
            "Terrible experience, would not recommend to anyone.  positive\n",
            "  It's okay, nothing special but gets the job done.   neutral\n"
          ]
        }
      ]
    }
  ]
}